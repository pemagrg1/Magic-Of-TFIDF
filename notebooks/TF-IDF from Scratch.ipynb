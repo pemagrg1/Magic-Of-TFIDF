{
 "cells": [
  {
   "cell_type": "markdown",
   "metadata": {},
   "source": [
    "# TF-IDF from Scratch"
   ]
  },
  {
   "cell_type": "code",
   "execution_count": 1,
   "metadata": {},
   "outputs": [],
   "source": [
    "import pandas as pd\n",
    "import sklearn as sk\n",
    "import math\n",
    "import nltk\n",
    "from nltk.corpus import stopwords\n"
   ]
  },
  {
   "cell_type": "code",
   "execution_count": null,
   "metadata": {},
   "outputs": [],
   "source": [
    "set(stopwords.words('english'))\n"
   ]
  },
  {
   "cell_type": "code",
   "execution_count": 3,
   "metadata": {},
   "outputs": [],
   "source": [
    "def computeTF(wordDict, doc):\n",
    "    \"\"\"\n",
    "        tf(t,d) = count of t in d / number of words in d\n",
    "\n",
    "    :param wordDict:\n",
    "    :param doc:\n",
    "    :return:\n",
    "    \"\"\"\n",
    "    tfDict = {}\n",
    "    corpusCount = len(doc)\n",
    "    for word, count in wordDict.items():\n",
    "        tfDict[word] = count/float(corpusCount)\n",
    "    return(tfDict)\n",
    "\n",
    "def computeIDF(docList):\n",
    "    \"\"\"\n",
    "        idf(t) = log(N/(df + 1))\n",
    "    :param docList:\n",
    "    :return:\n",
    "    \"\"\"\n",
    "    idfDict = {}\n",
    "    N = len(docList)\n",
    "\n",
    "    idfDict = dict.fromkeys(docList[0].keys(), 0)\n",
    "    for word, val in idfDict.items():\n",
    "        idfDict[word] = math.log10(N / (float(val) + 1))\n",
    "\n",
    "    return (idfDict)\n",
    "\n",
    "def computeTFIDF(tfBow, idfs):\n",
    "    \"\"\"\n",
    "    tf-idf(t, d) = tf(t, d) * log(N/(df + 1))\n",
    "    :param tfBow:\n",
    "    :param idfs:\n",
    "    :return:\n",
    "    \"\"\"\n",
    "    tfidf = {}\n",
    "    for word, val in tfBow.items():\n",
    "        tfidf[word] = val*idfs[word]\n",
    "    return(tfidf)\n"
   ]
  },
  {
   "cell_type": "code",
   "execution_count": 4,
   "metadata": {},
   "outputs": [],
   "source": [
    "sentence1 = \"Go until jurong point, crazy.. Available only in bugis n great world la e buffet... Cine there got amore wat...\"\n",
    "sentence2 = \"Free entry in 2 a wkly comp to win FA Cup final tkts 21st May 2005. Text FA to 87121 to receive entry question(std txt rate)T&C's apply 08452810075over18's\"\n"
   ]
  },
  {
   "cell_type": "code",
   "execution_count": 7,
   "metadata": {},
   "outputs": [
    {
     "name": "stdout",
     "output_type": "stream",
     "text": [
      "{'question', 'great', 'wat', 'rate', 'only', 'T', 'in', 'FA', 'tkts', 'final', 'jurong', 'point', 'Go', 'la', 'crazy..', 'Cine', 'until', 'got', 'to', 'receive', '2', 'comp', 'std', '&', 'wkly', 'amore', 'Available', 'world', 'n', '87121', ')', '08452810075over18', '2005', 'Cup', 'Text', 'entry', 'apply', '.', 'there', 'win', 'buffet', 'e', 'May', \"'s\", '21st', '(', 'txt', 'Free', '...', ',', 'a', 'C', 'bugis'}\n"
     ]
    }
   ],
   "source": [
    "#split so each word have their own string\n",
    "sentence1_list = nltk.word_tokenize(sentence1)\n",
    "sentence2_list = nltk.word_tokenize(sentence2)\n",
    "total= set(sentence1_list).union(set(sentence2_list))\n",
    "print (total)"
   ]
  },
  {
   "cell_type": "code",
   "execution_count": 9,
   "metadata": {},
   "outputs": [
    {
     "name": "stdout",
     "output_type": "stream",
     "text": [
      "{'question': 0, 'great': 1, 'wat': 1, 'rate': 0, 'only': 1, 'T': 0, 'in': 1, 'FA': 0, 'tkts': 0, 'final': 0, 'jurong': 1, 'point': 1, 'Go': 1, 'la': 1, 'crazy..': 1, 'Cine': 1, 'until': 1, 'got': 1, 'to': 0, 'receive': 0, '2': 0, 'comp': 0, 'std': 0, '&': 0, 'wkly': 0, 'amore': 1, 'Available': 1, 'world': 1, 'n': 1, '87121': 0, ')': 0, '08452810075over18': 0, '2005': 0, 'Cup': 0, 'Text': 0, 'entry': 0, 'apply': 0, '.': 0, 'there': 1, 'win': 0, 'buffet': 1, 'e': 1, 'May': 0, \"'s\": 0, '21st': 0, '(': 0, 'txt': 0, 'Free': 0, '...': 2, ',': 1, 'a': 0, 'C': 0, 'bugis': 1}\n",
      "\n",
      "{'question': 1, 'great': 0, 'wat': 0, 'rate': 1, 'only': 0, 'T': 1, 'in': 1, 'FA': 2, 'tkts': 1, 'final': 1, 'jurong': 0, 'point': 0, 'Go': 0, 'la': 0, 'crazy..': 0, 'Cine': 0, 'until': 0, 'got': 0, 'to': 3, 'receive': 1, '2': 1, 'comp': 1, 'std': 1, '&': 1, 'wkly': 1, 'amore': 0, 'Available': 0, 'world': 0, 'n': 0, '87121': 1, ')': 1, '08452810075over18': 1, '2005': 1, 'Cup': 1, 'Text': 1, 'entry': 2, 'apply': 1, '.': 1, 'there': 0, 'win': 1, 'buffet': 0, 'e': 0, 'May': 1, \"'s\": 2, '21st': 1, '(': 1, 'txt': 1, 'Free': 1, '...': 0, ',': 0, 'a': 1, 'C': 1, 'bugis': 0}\n"
     ]
    }
   ],
   "source": [
    "def create_word_dict(total, sentence):\n",
    "    wordDict = dict.fromkeys(total, 0)\n",
    "    for word in sentence:\n",
    "        wordDict[word] += 1\n",
    "    return wordDict\n",
    "\n",
    "wordDictA = create_word_dict(total,sentence1_list)\n",
    "wordDictB = create_word_dict(total,sentence2_list)\n",
    "\n",
    "print (wordDictA)\n",
    "print()\n",
    "print (wordDictB)"
   ]
  },
  {
   "cell_type": "markdown",
   "metadata": {},
   "source": [
    "# Term Freq\n"
   ]
  },
  {
   "cell_type": "code",
   "execution_count": 20,
   "metadata": {},
   "outputs": [
    {
     "name": "stdout",
     "output_type": "stream",
     "text": [
      "TERM FREQUENCY OF SENTENCE1:\n",
      " {'question': 0.0, 'great': 0.043478260869565216, 'wat': 0.043478260869565216, 'rate': 0.0, 'only': 0.043478260869565216, 'T': 0.0, 'in': 0.043478260869565216, 'FA': 0.0, 'tkts': 0.0, 'final': 0.0, 'jurong': 0.043478260869565216, 'point': 0.043478260869565216, 'Go': 0.043478260869565216, 'la': 0.043478260869565216, 'crazy..': 0.043478260869565216, 'Cine': 0.043478260869565216, 'until': 0.043478260869565216, 'got': 0.043478260869565216, 'to': 0.0, 'receive': 0.0, '2': 0.0, 'comp': 0.0, 'std': 0.0, '&': 0.0, 'wkly': 0.0, 'amore': 0.043478260869565216, 'Available': 0.043478260869565216, 'world': 0.043478260869565216, 'n': 0.043478260869565216, '87121': 0.0, ')': 0.0, '08452810075over18': 0.0, '2005': 0.0, 'Cup': 0.0, 'Text': 0.0, 'entry': 0.0, 'apply': 0.0, '.': 0.0, 'there': 0.043478260869565216, 'win': 0.0, 'buffet': 0.043478260869565216, 'e': 0.043478260869565216, 'May': 0.0, \"'s\": 0.0, '21st': 0.0, '(': 0.0, 'txt': 0.0, 'Free': 0.0, '...': 0.08695652173913043, ',': 0.043478260869565216, 'a': 0.0, 'C': 0.0, 'bugis': 0.043478260869565216}\n",
      "\n",
      "TERM FREQUENCY OF SENTENCE2:\n",
      " {'question': 0.02702702702702703, 'great': 0.0, 'wat': 0.0, 'rate': 0.02702702702702703, 'only': 0.0, 'T': 0.02702702702702703, 'in': 0.02702702702702703, 'FA': 0.05405405405405406, 'tkts': 0.02702702702702703, 'final': 0.02702702702702703, 'jurong': 0.0, 'point': 0.0, 'Go': 0.0, 'la': 0.0, 'crazy..': 0.0, 'Cine': 0.0, 'until': 0.0, 'got': 0.0, 'to': 0.08108108108108109, 'receive': 0.02702702702702703, '2': 0.02702702702702703, 'comp': 0.02702702702702703, 'std': 0.02702702702702703, '&': 0.02702702702702703, 'wkly': 0.02702702702702703, 'amore': 0.0, 'Available': 0.0, 'world': 0.0, 'n': 0.0, '87121': 0.02702702702702703, ')': 0.02702702702702703, '08452810075over18': 0.02702702702702703, '2005': 0.02702702702702703, 'Cup': 0.02702702702702703, 'Text': 0.02702702702702703, 'entry': 0.05405405405405406, 'apply': 0.02702702702702703, '.': 0.02702702702702703, 'there': 0.0, 'win': 0.02702702702702703, 'buffet': 0.0, 'e': 0.0, 'May': 0.02702702702702703, \"'s\": 0.05405405405405406, '21st': 0.02702702702702703, '(': 0.02702702702702703, 'txt': 0.02702702702702703, 'Free': 0.02702702702702703, '...': 0.0, ',': 0.0, 'a': 0.02702702702702703, 'C': 0.02702702702702703, 'bugis': 0.0}\n"
     ]
    }
   ],
   "source": [
    "tfFirst = computeTF(wordDictA, sentence1_list)\n",
    "tfSecond = computeTF(wordDictB, sentence2_list)\n",
    "print (\"TERM FREQUENCY OF SENTENCE1:\\n\",tfFirst)\n",
    "print()\n",
    "print (\"TERM FREQUENCY OF SENTENCE2:\\n\",tfSecond)"
   ]
  },
  {
   "cell_type": "markdown",
   "metadata": {},
   "source": [
    "# IDF"
   ]
  },
  {
   "cell_type": "code",
   "execution_count": 13,
   "metadata": {},
   "outputs": [
    {
     "data": {
      "text/plain": [
       "{'question': 0.3010299956639812,\n",
       " 'great': 0.3010299956639812,\n",
       " 'wat': 0.3010299956639812,\n",
       " 'rate': 0.3010299956639812,\n",
       " 'only': 0.3010299956639812,\n",
       " 'T': 0.3010299956639812,\n",
       " 'in': 0.3010299956639812,\n",
       " 'FA': 0.3010299956639812,\n",
       " 'tkts': 0.3010299956639812,\n",
       " 'final': 0.3010299956639812,\n",
       " 'jurong': 0.3010299956639812,\n",
       " 'point': 0.3010299956639812,\n",
       " 'Go': 0.3010299956639812,\n",
       " 'la': 0.3010299956639812,\n",
       " 'crazy..': 0.3010299956639812,\n",
       " 'Cine': 0.3010299956639812,\n",
       " 'until': 0.3010299956639812,\n",
       " 'got': 0.3010299956639812,\n",
       " 'to': 0.3010299956639812,\n",
       " 'receive': 0.3010299956639812,\n",
       " '2': 0.3010299956639812,\n",
       " 'comp': 0.3010299956639812,\n",
       " 'std': 0.3010299956639812,\n",
       " '&': 0.3010299956639812,\n",
       " 'wkly': 0.3010299956639812,\n",
       " 'amore': 0.3010299956639812,\n",
       " 'Available': 0.3010299956639812,\n",
       " 'world': 0.3010299956639812,\n",
       " 'n': 0.3010299956639812,\n",
       " '87121': 0.3010299956639812,\n",
       " ')': 0.3010299956639812,\n",
       " '08452810075over18': 0.3010299956639812,\n",
       " '2005': 0.3010299956639812,\n",
       " 'Cup': 0.3010299956639812,\n",
       " 'Text': 0.3010299956639812,\n",
       " 'entry': 0.3010299956639812,\n",
       " 'apply': 0.3010299956639812,\n",
       " '.': 0.3010299956639812,\n",
       " 'there': 0.3010299956639812,\n",
       " 'win': 0.3010299956639812,\n",
       " 'buffet': 0.3010299956639812,\n",
       " 'e': 0.3010299956639812,\n",
       " 'May': 0.3010299956639812,\n",
       " \"'s\": 0.3010299956639812,\n",
       " '21st': 0.3010299956639812,\n",
       " '(': 0.3010299956639812,\n",
       " 'txt': 0.3010299956639812,\n",
       " 'Free': 0.3010299956639812,\n",
       " '...': 0.3010299956639812,\n",
       " ',': 0.3010299956639812,\n",
       " 'a': 0.3010299956639812,\n",
       " 'C': 0.3010299956639812,\n",
       " 'bugis': 0.3010299956639812}"
      ]
     },
     "execution_count": 13,
     "metadata": {},
     "output_type": "execute_result"
    }
   ],
   "source": [
    "idfs = computeIDF([wordDictA, wordDictB])\n",
    "\n",
    "idfs"
   ]
  },
  {
   "cell_type": "markdown",
   "metadata": {},
   "source": [
    "# TDIDF"
   ]
  },
  {
   "cell_type": "code",
   "execution_count": 14,
   "metadata": {},
   "outputs": [
    {
     "name": "stdout",
     "output_type": "stream",
     "text": [
      "{'question': 0.0, 'great': 0.01308826068104266, 'wat': 0.01308826068104266, 'rate': 0.0, 'only': 0.01308826068104266, 'T': 0.0, 'in': 0.01308826068104266, 'FA': 0.0, 'tkts': 0.0, 'final': 0.0, 'jurong': 0.01308826068104266, 'point': 0.01308826068104266, 'Go': 0.01308826068104266, 'la': 0.01308826068104266, 'crazy..': 0.01308826068104266, 'Cine': 0.01308826068104266, 'until': 0.01308826068104266, 'got': 0.01308826068104266, 'to': 0.0, 'receive': 0.0, '2': 0.0, 'comp': 0.0, 'std': 0.0, '&': 0.0, 'wkly': 0.0, 'amore': 0.01308826068104266, 'Available': 0.01308826068104266, 'world': 0.01308826068104266, 'n': 0.01308826068104266, '87121': 0.0, ')': 0.0, '08452810075over18': 0.0, '2005': 0.0, 'Cup': 0.0, 'Text': 0.0, 'entry': 0.0, 'apply': 0.0, '.': 0.0, 'there': 0.01308826068104266, 'win': 0.0, 'buffet': 0.01308826068104266, 'e': 0.01308826068104266, 'May': 0.0, \"'s\": 0.0, '21st': 0.0, '(': 0.0, 'txt': 0.0, 'Free': 0.0, '...': 0.02617652136208532, ',': 0.01308826068104266, 'a': 0.0, 'C': 0.0, 'bugis': 0.01308826068104266}\n",
      "\n",
      "{'question': 0.00813594582875625, 'great': 0.0, 'wat': 0.0, 'rate': 0.00813594582875625, 'only': 0.0, 'T': 0.00813594582875625, 'in': 0.00813594582875625, 'FA': 0.0162718916575125, 'tkts': 0.00813594582875625, 'final': 0.00813594582875625, 'jurong': 0.0, 'point': 0.0, 'Go': 0.0, 'la': 0.0, 'crazy..': 0.0, 'Cine': 0.0, 'until': 0.0, 'got': 0.0, 'to': 0.024407837486268746, 'receive': 0.00813594582875625, '2': 0.00813594582875625, 'comp': 0.00813594582875625, 'std': 0.00813594582875625, '&': 0.00813594582875625, 'wkly': 0.00813594582875625, 'amore': 0.0, 'Available': 0.0, 'world': 0.0, 'n': 0.0, '87121': 0.00813594582875625, ')': 0.00813594582875625, '08452810075over18': 0.00813594582875625, '2005': 0.00813594582875625, 'Cup': 0.00813594582875625, 'Text': 0.00813594582875625, 'entry': 0.0162718916575125, 'apply': 0.00813594582875625, '.': 0.00813594582875625, 'there': 0.0, 'win': 0.00813594582875625, 'buffet': 0.0, 'e': 0.0, 'May': 0.00813594582875625, \"'s\": 0.0162718916575125, '21st': 0.00813594582875625, '(': 0.00813594582875625, 'txt': 0.00813594582875625, 'Free': 0.00813594582875625, '...': 0.0, ',': 0.0, 'a': 0.00813594582875625, 'C': 0.00813594582875625, 'bugis': 0.0}\n"
     ]
    }
   ],
   "source": [
    "#running our two sentences through the IDF:\n",
    "idfFirst = computeTFIDF(tfFirst, idfs)\n",
    "idfSecond = computeTFIDF(tfSecond, idfs)\n",
    "print (idfFirst)\n",
    "print()\n",
    "print (idfSecond)"
   ]
  },
  {
   "cell_type": "code",
   "execution_count": 18,
   "metadata": {},
   "outputs": [
    {
     "data": {
      "text/html": [
       "<div>\n",
       "<style scoped>\n",
       "    .dataframe tbody tr th:only-of-type {\n",
       "        vertical-align: middle;\n",
       "    }\n",
       "\n",
       "    .dataframe tbody tr th {\n",
       "        vertical-align: top;\n",
       "    }\n",
       "\n",
       "    .dataframe thead th {\n",
       "        text-align: right;\n",
       "    }\n",
       "</style>\n",
       "<table border=\"1\" class=\"dataframe\">\n",
       "  <thead>\n",
       "    <tr style=\"text-align: right;\">\n",
       "      <th></th>\n",
       "      <th>question</th>\n",
       "      <th>great</th>\n",
       "      <th>wat</th>\n",
       "      <th>rate</th>\n",
       "      <th>only</th>\n",
       "      <th>T</th>\n",
       "      <th>in</th>\n",
       "      <th>FA</th>\n",
       "      <th>tkts</th>\n",
       "      <th>final</th>\n",
       "      <th>...</th>\n",
       "      <th>'s</th>\n",
       "      <th>21st</th>\n",
       "      <th>(</th>\n",
       "      <th>txt</th>\n",
       "      <th>Free</th>\n",
       "      <th>...</th>\n",
       "      <th>,</th>\n",
       "      <th>a</th>\n",
       "      <th>C</th>\n",
       "      <th>bugis</th>\n",
       "    </tr>\n",
       "  </thead>\n",
       "  <tbody>\n",
       "    <tr>\n",
       "      <th>0</th>\n",
       "      <td>0.000000</td>\n",
       "      <td>0.013088</td>\n",
       "      <td>0.013088</td>\n",
       "      <td>0.000000</td>\n",
       "      <td>0.013088</td>\n",
       "      <td>0.000000</td>\n",
       "      <td>0.013088</td>\n",
       "      <td>0.000000</td>\n",
       "      <td>0.000000</td>\n",
       "      <td>0.000000</td>\n",
       "      <td>...</td>\n",
       "      <td>0.000000</td>\n",
       "      <td>0.000000</td>\n",
       "      <td>0.000000</td>\n",
       "      <td>0.000000</td>\n",
       "      <td>0.000000</td>\n",
       "      <td>0.026177</td>\n",
       "      <td>0.013088</td>\n",
       "      <td>0.000000</td>\n",
       "      <td>0.000000</td>\n",
       "      <td>0.013088</td>\n",
       "    </tr>\n",
       "    <tr>\n",
       "      <th>1</th>\n",
       "      <td>0.008136</td>\n",
       "      <td>0.000000</td>\n",
       "      <td>0.000000</td>\n",
       "      <td>0.008136</td>\n",
       "      <td>0.000000</td>\n",
       "      <td>0.008136</td>\n",
       "      <td>0.008136</td>\n",
       "      <td>0.016272</td>\n",
       "      <td>0.008136</td>\n",
       "      <td>0.008136</td>\n",
       "      <td>...</td>\n",
       "      <td>0.016272</td>\n",
       "      <td>0.008136</td>\n",
       "      <td>0.008136</td>\n",
       "      <td>0.008136</td>\n",
       "      <td>0.008136</td>\n",
       "      <td>0.000000</td>\n",
       "      <td>0.000000</td>\n",
       "      <td>0.008136</td>\n",
       "      <td>0.008136</td>\n",
       "      <td>0.000000</td>\n",
       "    </tr>\n",
       "  </tbody>\n",
       "</table>\n",
       "<p>2 rows × 53 columns</p>\n",
       "</div>"
      ],
      "text/plain": [
       "   question     great       wat      rate      only         T        in  \\\n",
       "0  0.000000  0.013088  0.013088  0.000000  0.013088  0.000000  0.013088   \n",
       "1  0.008136  0.000000  0.000000  0.008136  0.000000  0.008136  0.008136   \n",
       "\n",
       "         FA      tkts     final  ...        's      21st         (       txt  \\\n",
       "0  0.000000  0.000000  0.000000  ...  0.000000  0.000000  0.000000  0.000000   \n",
       "1  0.016272  0.008136  0.008136  ...  0.016272  0.008136  0.008136  0.008136   \n",
       "\n",
       "       Free       ...         ,         a         C     bugis  \n",
       "0  0.000000  0.026177  0.013088  0.000000  0.000000  0.013088  \n",
       "1  0.008136  0.000000  0.000000  0.008136  0.008136  0.000000  \n",
       "\n",
       "[2 rows x 53 columns]"
      ]
     },
     "execution_count": 18,
     "metadata": {},
     "output_type": "execute_result"
    }
   ],
   "source": [
    "\n",
    "#putting it in a dataframe\n",
    "idf = pd.DataFrame([idfFirst, idfSecond])\n",
    "idf.head()"
   ]
  },
  {
   "cell_type": "code",
   "execution_count": null,
   "metadata": {},
   "outputs": [],
   "source": []
  },
  {
   "cell_type": "code",
   "execution_count": null,
   "metadata": {},
   "outputs": [],
   "source": []
  },
  {
   "cell_type": "code",
   "execution_count": null,
   "metadata": {},
   "outputs": [],
   "source": [
    " "
   ]
  },
  {
   "cell_type": "code",
   "execution_count": null,
   "metadata": {},
   "outputs": [],
   "source": []
  }
 ],
 "metadata": {
  "kernelspec": {
   "display_name": "Python 3",
   "language": "python",
   "name": "python3"
  },
  "language_info": {
   "codemirror_mode": {
    "name": "ipython",
    "version": 3
   },
   "file_extension": ".py",
   "mimetype": "text/x-python",
   "name": "python",
   "nbconvert_exporter": "python",
   "pygments_lexer": "ipython3",
   "version": "3.7.6"
  }
 },
 "nbformat": 4,
 "nbformat_minor": 2
}
