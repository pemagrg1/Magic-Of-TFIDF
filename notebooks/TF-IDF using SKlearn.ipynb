{
 "cells": [
  {
   "cell_type": "code",
   "execution_count": 2,
   "metadata": {},
   "outputs": [],
   "source": [
    "from sklearn.feature_extraction.text import TfidfVectorizer\n",
    "\n",
    "sentence1 = \"Go until jurong point, crazy.. Available only in bugis n great world la e buffet... Cine there got amore wat...\"\n",
    "sentence2 = \"Free entry in 2 a wkly comp to win FA Cup final tkts 21st May 2005. Text FA to 87121 to receive entry question(std txt rate)T&C's apply 08452810075over18's\"\n"
   ]
  },
  {
   "cell_type": "code",
   "execution_count": 3,
   "metadata": {},
   "outputs": [
    {
     "data": {
      "text/plain": [
       "['Go until jurong point, crazy.. Available only in bugis n great world la e buffet... Cine there got amore wat...',\n",
       " \"Free entry in 2 a wkly comp to win FA Cup final tkts 21st May 2005. Text FA to 87121 to receive entry question(std txt rate)T&C's apply 08452810075over18's\"]"
      ]
     },
     "execution_count": 3,
     "metadata": {},
     "output_type": "execute_result"
    }
   ],
   "source": [
    "data = [sentence1, sentence2]\n",
    "data\n"
   ]
  },
  {
   "cell_type": "code",
   "execution_count": 4,
   "metadata": {},
   "outputs": [
    {
     "data": {
      "text/plain": [
       "TfidfVectorizer(analyzer='word', binary=False, decode_error='strict',\n",
       "                dtype=<class 'numpy.float64'>, encoding='utf-8',\n",
       "                input='content', lowercase=True, max_df=1.0, max_features=None,\n",
       "                min_df=1, ngram_range=(1, 1), norm='l2', preprocessor=None,\n",
       "                smooth_idf=True, stop_words='english', strip_accents=None,\n",
       "                sublinear_tf=False, token_pattern='(?u)\\\\b\\\\w\\\\w+\\\\b',\n",
       "                tokenizer=None, use_idf=True, vocabulary=None)"
      ]
     },
     "execution_count": 4,
     "metadata": {},
     "output_type": "execute_result"
    }
   ],
   "source": [
    "tfidf_vectorizer = TfidfVectorizer(stop_words='english')\n",
    "tfidf_vectorizer\n"
   ]
  },
  {
   "cell_type": "code",
   "execution_count": 5,
   "metadata": {},
   "outputs": [
    {
     "name": "stdout",
     "output_type": "stream",
     "text": [
      "  (0, 29)\t0.27735009811261463\n",
      "  (0, 4)\t0.27735009811261463\n",
      "  (0, 17)\t0.27735009811261463\n",
      "  (0, 9)\t0.27735009811261463\n",
      "  (0, 7)\t0.27735009811261463\n",
      "  (0, 20)\t0.27735009811261463\n",
      "  (0, 32)\t0.27735009811261463\n",
      "  (0, 18)\t0.27735009811261463\n",
      "  (0, 8)\t0.27735009811261463\n",
      "  (0, 6)\t0.27735009811261463\n",
      "  (0, 11)\t0.27735009811261463\n",
      "  (0, 21)\t0.27735009811261463\n",
      "  (0, 19)\t0.27735009811261463\n",
      "  (1, 0)\t0.19611613513818402\n",
      "  (1, 5)\t0.19611613513818402\n",
      "  (1, 23)\t0.19611613513818402\n",
      "  (1, 28)\t0.19611613513818402\n",
      "  (1, 25)\t0.19611613513818402\n",
      "  (1, 22)\t0.19611613513818402\n",
      "  (1, 24)\t0.19611613513818402\n",
      "  (1, 3)\t0.19611613513818402\n",
      "  (1, 26)\t0.19611613513818402\n",
      "  (1, 1)\t0.19611613513818402\n",
      "  (1, 2)\t0.19611613513818402\n",
      "  (1, 27)\t0.19611613513818402\n",
      "  (1, 15)\t0.19611613513818402\n",
      "  (1, 12)\t0.19611613513818402\n",
      "  (1, 14)\t0.39223227027636803\n",
      "  (1, 30)\t0.19611613513818402\n",
      "  (1, 10)\t0.19611613513818402\n",
      "  (1, 31)\t0.19611613513818402\n",
      "  (1, 13)\t0.39223227027636803\n",
      "  (1, 16)\t0.19611613513818402\n"
     ]
    }
   ],
   "source": [
    "X = tfidf_vectorizer.fit_transform(data)\n",
    "print(X)"
   ]
  },
  {
   "cell_type": "code",
   "execution_count": null,
   "metadata": {},
   "outputs": [],
   "source": []
  }
 ],
 "metadata": {
  "kernelspec": {
   "display_name": "Python 3",
   "language": "python",
   "name": "python3"
  },
  "language_info": {
   "codemirror_mode": {
    "name": "ipython",
    "version": 3
   },
   "file_extension": ".py",
   "mimetype": "text/x-python",
   "name": "python",
   "nbconvert_exporter": "python",
   "pygments_lexer": "ipython3",
   "version": "3.7.6"
  }
 },
 "nbformat": 4,
 "nbformat_minor": 2
}
